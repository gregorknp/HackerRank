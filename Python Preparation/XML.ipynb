{
 "cells": [
  {
   "cell_type": "markdown",
   "id": "39bcb56d",
   "metadata": {},
   "source": [
    "# XML"
   ]
  },
  {
   "cell_type": "markdown",
   "id": "d0e07fd0",
   "metadata": {},
   "source": [
    "## XML 1 - Find the Score"
   ]
  },
  {
   "cell_type": "markdown",
   "id": "11d059aa",
   "metadata": {},
   "source": [
    "![](imgs/xml1_find_the_score.png)"
   ]
  },
  {
   "cell_type": "code",
   "execution_count": null,
   "id": "5e18f7ae",
   "metadata": {},
   "outputs": [],
   "source": [
    "import sys\n",
    "import xml.etree.ElementTree as etree\n",
    "\n",
    "def get_attr_number(node):\n",
    "    \"\"\"\n",
    "    Given an xml element, the property attrib contains a dictionary with the format:\n",
    "                  { 'attrib': 'name', 'attrib': 'name', ..., 'attrib':'name'}\n",
    "    that contains all its attributes.\n",
    "    \"\"\"\n",
    "            \n",
    "    # Firstly, we get the attributes of the root node and calculate how many of them there are using len\n",
    "    num_attrib =len(node.attrib)\n",
    "    \n",
    "    # Secondly, we iterate over the children of the root node and get the number of its attributes recursively.\n",
    "    # This way we can go down the tree any level regardless how nested is the tree\n",
    "    for child in node:\n",
    "        num_attrib += get_attr_number(child)\n",
    "        \n",
    "    return num_attrib\n",
    "\n",
    "if __name__ == '__main__':\n",
    "    sys.stdin.readline()\n",
    "    xml = sys.stdin.read()\n",
    "    tree = etree.ElementTree(etree.fromstring(xml))\n",
    "    root = tree.getroot()\n",
    "    print(get_attr_number(root))"
   ]
  },
  {
   "cell_type": "markdown",
   "id": "57704a26",
   "metadata": {},
   "source": [
    "## XML2 - Find the Maximum Depth"
   ]
  },
  {
   "cell_type": "markdown",
   "id": "dc40f72a",
   "metadata": {},
   "source": [
    "![](imgs/xml2_find_the_maximum_depth.png)"
   ]
  },
  {
   "cell_type": "code",
   "execution_count": null,
   "id": "76f67fb1",
   "metadata": {},
   "outputs": [],
   "source": [
    "import xml.etree.ElementTree as etree\n",
    "\n",
    "maxdepth = 0\n",
    "def depth(elem, level):\n",
    "    global maxdepth\n",
    "    \n",
    "    \"\"\"\n",
    "    Given an element (elem) we iterate over its children, incrementing the level parameter. This way, when there are no more children, \n",
    "    if level is equal or greater than maxdepth, maxdepth is assigned with level + 1. This is needed as the starting level is -1.\n",
    "    \n",
    "    The function is recursive and, form each element, the recursion ends when there are no more children\n",
    "    \"\"\"\n",
    "    \n",
    "    if level >= maxdepth:\n",
    "        maxdepth = level + 1\n",
    "    \n",
    "    for child in elem:\n",
    "        depth(child, level + 1)\n",
    "        \n",
    "if __name__ == '__main__':\n",
    "    n = int(input())\n",
    "    xml = \"\"\n",
    "    for i in range(n):\n",
    "        xml =  xml + input() + \"\\n\"\n",
    "    tree = etree.ElementTree(etree.fromstring(xml))\n",
    "    depth(tree.getroot(), -1)\n",
    "    print(maxdepth)"
   ]
  }
 ],
 "metadata": {
  "kernelspec": {
   "display_name": "Python 3 (ipykernel)",
   "language": "python",
   "name": "python3"
  },
  "language_info": {
   "codemirror_mode": {
    "name": "ipython",
    "version": 3
   },
   "file_extension": ".py",
   "mimetype": "text/x-python",
   "name": "python",
   "nbconvert_exporter": "python",
   "pygments_lexer": "ipython3",
   "version": "3.7.13"
  }
 },
 "nbformat": 4,
 "nbformat_minor": 5
}
