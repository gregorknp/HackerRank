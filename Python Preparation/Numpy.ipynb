{
 "cells": [
  {
   "cell_type": "markdown",
   "id": "fa3b2017",
   "metadata": {},
   "source": [
    "# Numpy"
   ]
  },
  {
   "cell_type": "markdown",
   "id": "b483afcd",
   "metadata": {},
   "source": [
    "## Zeros and Ones"
   ]
  },
  {
   "cell_type": "markdown",
   "id": "f7897ee4",
   "metadata": {},
   "source": [
    "![](imgs\\zeros_and_ones_1.png)\n",
    "![](imgs\\zeros_and_ones_2.png)"
   ]
  },
  {
   "cell_type": "code",
   "execution_count": null,
   "id": "3bcdf123",
   "metadata": {},
   "outputs": [],
   "source": [
    "# Enter your code here. Read input from STDIN. Print output to STDOUT\n",
    "import numpy as np\n",
    "\n",
    "# Read the input as a string, split it to get a list. Then convert \n",
    "# each list element to int with map. Finally, convert the map into a tuple as the first parameter of zeros an ones is a tuple\n",
    "number_tuple = tuple(map(int, input().split()))\n",
    "\n",
    "# create the ndarray using int as a datatype\n",
    "print(np.zeros(number_tuple, dtype = np.int))\n",
    "print(np.ones(number_tuple, dtype = np.int))"
   ]
  },
  {
   "cell_type": "markdown",
   "id": "9858752d",
   "metadata": {},
   "source": [
    "## Eye and Identity"
   ]
  },
  {
   "cell_type": "markdown",
   "id": "33abc40a",
   "metadata": {},
   "source": [
    "![](imgs\\eye_and_identity_1.png)\n",
    "![](imgs\\eye_and_identity_2.png)"
   ]
  },
  {
   "cell_type": "code",
   "execution_count": 2,
   "id": "6cb7323b",
   "metadata": {},
   "outputs": [
    {
     "name": "stdout",
     "output_type": "stream",
     "text": [
      "1\n"
     ]
    },
    {
     "ename": "ValueError",
     "evalue": "not enough values to unpack (expected 2, got 1)",
     "output_type": "error",
     "traceback": [
      "\u001b[1;31m---------------------------------------------------------------------------\u001b[0m",
      "\u001b[1;31mValueError\u001b[0m                                Traceback (most recent call last)",
      "\u001b[1;32m~\\AppData\\Local\\Temp\\ipykernel_8584\\55690370.py\u001b[0m in \u001b[0;36m<module>\u001b[1;34m\u001b[0m\n\u001b[0;32m      3\u001b[0m \u001b[1;33m\u001b[0m\u001b[0m\n\u001b[0;32m      4\u001b[0m \u001b[1;31m# We get the number of rows and columns from stdin\u001b[0m\u001b[1;33m\u001b[0m\u001b[1;33m\u001b[0m\u001b[1;33m\u001b[0m\u001b[0m\n\u001b[1;32m----> 5\u001b[1;33m \u001b[0mn\u001b[0m\u001b[1;33m,\u001b[0m \u001b[0mm\u001b[0m \u001b[1;33m=\u001b[0m \u001b[0mmap\u001b[0m\u001b[1;33m(\u001b[0m\u001b[0mint\u001b[0m\u001b[1;33m,\u001b[0m \u001b[0minput\u001b[0m\u001b[1;33m(\u001b[0m\u001b[1;33m)\u001b[0m\u001b[1;33m.\u001b[0m\u001b[0msplit\u001b[0m\u001b[1;33m(\u001b[0m\u001b[1;33m)\u001b[0m\u001b[1;33m)\u001b[0m\u001b[1;33m\u001b[0m\u001b[1;33m\u001b[0m\u001b[0m\n\u001b[0m\u001b[0;32m      6\u001b[0m \u001b[0mnp\u001b[0m\u001b[1;33m.\u001b[0m\u001b[0mset_printoptions\u001b[0m\u001b[1;33m(\u001b[0m\u001b[0mlegacy\u001b[0m\u001b[1;33m=\u001b[0m\u001b[1;34m'1.13'\u001b[0m\u001b[1;33m)\u001b[0m\u001b[1;33m\u001b[0m\u001b[1;33m\u001b[0m\u001b[0m\n\u001b[0;32m      7\u001b[0m \u001b[1;33m\u001b[0m\u001b[0m\n",
      "\u001b[1;31mValueError\u001b[0m: not enough values to unpack (expected 2, got 1)"
     ]
    }
   ],
   "source": [
    "# Enter your code here. Read input from STDIN. Print output to STDOUT\n",
    "import numpy as np\n",
    "\n",
    "# We get the number of rows and columns from stdin\n",
    "n, m = map(int, input().split())\n",
    "np.set_printoptions(legacy='1.13')\n",
    "\n",
    "# As the matrix is nxm we use numpy.eye\n",
    "print(np.eye(n, m))"
   ]
  },
  {
   "cell_type": "markdown",
   "id": "86d439cb",
   "metadata": {},
   "source": [
    "## Concatenate"
   ]
  },
  {
   "cell_type": "markdown",
   "id": "18f5e578",
   "metadata": {},
   "source": [
    "![](imgs\\concatenate_1.png)\n",
    "![](imgs\\concatenate_2.png)"
   ]
  },
  {
   "cell_type": "code",
   "execution_count": 7,
   "id": "b10d18f9",
   "metadata": {},
   "outputs": [
    {
     "name": "stdout",
     "output_type": "stream",
     "text": [
      "[[1 2 3]\n",
      " [0 0 0]]\n",
      "[[1 1 1]\n",
      " [7 8 9]]\n",
      "[[1 2 3 1 1 1]\n",
      " [0 0 0 7 8 9]]\n",
      "[[1 2 3]\n",
      " [0 0 0]\n",
      " [1 1 1]\n",
      " [7 8 9]]\n"
     ]
    }
   ],
   "source": [
    "import numpy\n",
    "\n",
    "array_1 = numpy.array([[1,2,3],[0,0,0]])\n",
    "array_2 = numpy.array([[1,1,1],[7,8,9]])\n",
    "\n",
    "print(array_1)\n",
    "print(array_2)\n",
    "print(numpy.concatenate((array_1, array_2), axis = 1)) # The array is extended to the right\n",
    "print(numpy.concatenate((array_1, array_2), axis = 0)) # The array is extended to the bottom "
   ]
  },
  {
   "cell_type": "code",
   "execution_count": 8,
   "id": "2b16eee5",
   "metadata": {},
   "outputs": [
    {
     "name": "stdout",
     "output_type": "stream",
     "text": [
      "[[1 2]\n",
      " [1 2]\n",
      " [1 2]]\n"
     ]
    }
   ],
   "source": [
    "print(numpy.array([[1, 2], [1,2], [1,2]]))"
   ]
  },
  {
   "cell_type": "code",
   "execution_count": null,
   "id": "c6fefe8d",
   "metadata": {},
   "outputs": [],
   "source": [
    "import numpy as np\n",
    "# Enter your code here. Read input from STDIN. Print output to STDOUT\n",
    "\n",
    "# The input is read and unpacked into variables n (rows first array), m (rows second array) and p (columns)\n",
    "n, m, p = map(int, input().split())\n",
    "\n",
    "# We read the N rows of the first array using input. Each input is then read as string. We use split to get the P elements corresponding with each column as a list. Using map we transform each element to int and then convert the map into a list. That list represents the final row. Finally we append the row to a list. The array is created from the list of rows\n",
    "rows = []\n",
    "for _ in range(n):\n",
    "    rows.append(list(map(int, input().split())))\n",
    "array_1 = np.array(rows)\n",
    "\n",
    "# We repeat the same logic to create the second array\n",
    "rows = []\n",
    "for _ in range(m):\n",
    "    rows.append(list(map(int, input().split())))\n",
    "array_2 = np.array(rows)\n",
    "\n",
    "# Finally, we concatenate the previous arrays along the first dimension to get the desired result\n",
    "print(np.concatenate((array_1, array_2), axis = 0))"
   ]
  }
 ],
 "metadata": {
  "kernelspec": {
   "display_name": "Python 3 (ipykernel)",
   "language": "python",
   "name": "python3"
  },
  "language_info": {
   "codemirror_mode": {
    "name": "ipython",
    "version": 3
   },
   "file_extension": ".py",
   "mimetype": "text/x-python",
   "name": "python",
   "nbconvert_exporter": "python",
   "pygments_lexer": "ipython3",
   "version": "3.7.13"
  }
 },
 "nbformat": 4,
 "nbformat_minor": 5
}
