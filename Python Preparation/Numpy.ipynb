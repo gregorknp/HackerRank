{
 "cells": [
  {
   "cell_type": "markdown",
   "id": "fc8ddcfe",
   "metadata": {},
   "source": [
    "# Numpy"
   ]
  },
  {
   "cell_type": "markdown",
   "id": "d16526ac",
   "metadata": {},
   "source": [
    "## Zeros and Ones"
   ]
  },
  {
   "cell_type": "markdown",
   "id": "ce2a0785",
   "metadata": {},
   "source": [
    "![](imgs\\zeros_and_ones_1.png)\n",
    "![](imgs\\zeros_and_ones_2.png)"
   ]
  },
  {
   "cell_type": "code",
   "execution_count": null,
   "id": "102fcfe3",
   "metadata": {},
   "outputs": [],
   "source": [
    "# Enter your code here. Read input from STDIN. Print output to STDOUT\n",
    "import numpy as np\n",
    "\n",
    "# Read the input as a string, split it to get a list. Then convert \n",
    "# each list element to int with map. Finally, convert the map into a tuple as the first parameter of zeros an ones is a tuple\n",
    "number_tuple = tuple(map(int, input().split()))\n",
    "\n",
    "# create the ndarray using int as a datatype\n",
    "print(np.zeros(number_tuple, dtype = np.int))\n",
    "print(np.ones(number_tuple, dtype = np.int))"
   ]
  },
  {
   "cell_type": "markdown",
   "id": "27cb6f17",
   "metadata": {},
   "source": [
    "## Eye and Identity"
   ]
  },
  {
   "cell_type": "markdown",
   "id": "464844fa",
   "metadata": {},
   "source": [
    "![](imgs\\eye_and_identity_1.png)\n",
    "![](imgs\\eye_and_identity_2.png)"
   ]
  },
  {
   "cell_type": "code",
   "execution_count": 2,
   "id": "f9d0ffc5",
   "metadata": {},
   "outputs": [
    {
     "name": "stdout",
     "output_type": "stream",
     "text": [
      "1\n"
     ]
    },
    {
     "ename": "ValueError",
     "evalue": "not enough values to unpack (expected 2, got 1)",
     "output_type": "error",
     "traceback": [
      "\u001b[1;31m---------------------------------------------------------------------------\u001b[0m",
      "\u001b[1;31mValueError\u001b[0m                                Traceback (most recent call last)",
      "\u001b[1;32m~\\AppData\\Local\\Temp\\ipykernel_8584\\55690370.py\u001b[0m in \u001b[0;36m<module>\u001b[1;34m\u001b[0m\n\u001b[0;32m      3\u001b[0m \u001b[1;33m\u001b[0m\u001b[0m\n\u001b[0;32m      4\u001b[0m \u001b[1;31m# We get the number of rows and columns from stdin\u001b[0m\u001b[1;33m\u001b[0m\u001b[1;33m\u001b[0m\u001b[1;33m\u001b[0m\u001b[0m\n\u001b[1;32m----> 5\u001b[1;33m \u001b[0mn\u001b[0m\u001b[1;33m,\u001b[0m \u001b[0mm\u001b[0m \u001b[1;33m=\u001b[0m \u001b[0mmap\u001b[0m\u001b[1;33m(\u001b[0m\u001b[0mint\u001b[0m\u001b[1;33m,\u001b[0m \u001b[0minput\u001b[0m\u001b[1;33m(\u001b[0m\u001b[1;33m)\u001b[0m\u001b[1;33m.\u001b[0m\u001b[0msplit\u001b[0m\u001b[1;33m(\u001b[0m\u001b[1;33m)\u001b[0m\u001b[1;33m)\u001b[0m\u001b[1;33m\u001b[0m\u001b[1;33m\u001b[0m\u001b[0m\n\u001b[0m\u001b[0;32m      6\u001b[0m \u001b[0mnp\u001b[0m\u001b[1;33m.\u001b[0m\u001b[0mset_printoptions\u001b[0m\u001b[1;33m(\u001b[0m\u001b[0mlegacy\u001b[0m\u001b[1;33m=\u001b[0m\u001b[1;34m'1.13'\u001b[0m\u001b[1;33m)\u001b[0m\u001b[1;33m\u001b[0m\u001b[1;33m\u001b[0m\u001b[0m\n\u001b[0;32m      7\u001b[0m \u001b[1;33m\u001b[0m\u001b[0m\n",
      "\u001b[1;31mValueError\u001b[0m: not enough values to unpack (expected 2, got 1)"
     ]
    }
   ],
   "source": [
    "# Enter your code here. Read input from STDIN. Print output to STDOUT\n",
    "import numpy as np\n",
    "\n",
    "# We get the number of rows and columns from stdin\n",
    "n, m = map(int, input().split())\n",
    "np.set_printoptions(legacy='1.13')\n",
    "\n",
    "# As the matrix is nxm we use numpy.eye\n",
    "print(np.eye(n, m))"
   ]
  },
  {
   "cell_type": "markdown",
   "id": "21e734e2",
   "metadata": {},
   "source": [
    "## Concatenate"
   ]
  },
  {
   "cell_type": "markdown",
   "id": "cf57206b",
   "metadata": {},
   "source": [
    "![](imgs\\concatenate_1.png)\n",
    "![](imgs\\concatenate_2.png)"
   ]
  },
  {
   "cell_type": "code",
   "execution_count": 7,
   "id": "12e0e760",
   "metadata": {},
   "outputs": [
    {
     "name": "stdout",
     "output_type": "stream",
     "text": [
      "[[1 2 3]\n",
      " [0 0 0]]\n",
      "[[1 1 1]\n",
      " [7 8 9]]\n",
      "[[1 2 3 1 1 1]\n",
      " [0 0 0 7 8 9]]\n",
      "[[1 2 3]\n",
      " [0 0 0]\n",
      " [1 1 1]\n",
      " [7 8 9]]\n"
     ]
    }
   ],
   "source": [
    "import numpy\n",
    "\n",
    "array_1 = numpy.array([[1,2,3],[0,0,0]])\n",
    "array_2 = numpy.array([[1,1,1],[7,8,9]])\n",
    "\n",
    "print(array_1)\n",
    "print(array_2)\n",
    "print(numpy.concatenate((array_1, array_2), axis = 1)) # The array is extended to the right\n",
    "print(numpy.concatenate((array_1, array_2), axis = 0)) # The array is extended to the bottom "
   ]
  },
  {
   "cell_type": "code",
   "execution_count": 8,
   "id": "81115bb3",
   "metadata": {},
   "outputs": [
    {
     "name": "stdout",
     "output_type": "stream",
     "text": [
      "[[1 2]\n",
      " [1 2]\n",
      " [1 2]]\n"
     ]
    }
   ],
   "source": [
    "print(numpy.array([[1, 2], [1,2], [1,2]]))"
   ]
  },
  {
   "cell_type": "code",
   "execution_count": null,
   "id": "d938a54d",
   "metadata": {},
   "outputs": [],
   "source": [
    "# Enter your code here. Read input from STDIN. Print output to STDOUT\n",
    "# IMPORTANT NOTE. No error handling is implemented. The code below passes all tests needed to be accepted as a right answer\n",
    "import numpy as np\n",
    "\n",
    "# The input is read and unpacked into variables n (rows first array), m (rows second array) and p (columns)\n",
    "n, m, p = map(int, input().split())\n",
    "\n",
    "# We read the N rows of the first array using input. Each input is then read as string. We use split to get the P elements corresponding with each column as a list. Using map we transform each element to int and then convert the map into a list. That list represents the final row. Finally we append the row to a list. The array is created from the list of rows\n",
    "rows = []\n",
    "for _ in range(n):\n",
    "    rows.append(list(map(int, input().split())))\n",
    "array_1 = np.array(rows)\n",
    "\n",
    "# We repeat the same logic to create the second array\n",
    "rows = []\n",
    "for _ in range(m):\n",
    "    rows.append(list(map(int, input().split())))\n",
    "array_2 = np.array(rows)\n",
    "\n",
    "# Finally, we concatenate the previous arrays along the first dimension to get the desired result\n",
    "print(np.concatenate((array_1, array_2), axis = 0))"
   ]
  },
  {
   "cell_type": "markdown",
   "id": "3aa68f40",
   "metadata": {},
   "source": [
    "## Array Mathematics"
   ]
  },
  {
   "cell_type": "markdown",
   "id": "fd8e6adb",
   "metadata": {},
   "source": [
    "![](imgs\\array_mathematics_1.png)\n",
    "![](imgs\\array_mathematics_2.png)"
   ]
  },
  {
   "cell_type": "code",
   "execution_count": null,
   "id": "8fcd8245",
   "metadata": {},
   "outputs": [],
   "source": [
    "# Enter your code here. Read input from STDIN. Print output to STDOUT\n",
    "import numpy as np\n",
    "\n",
    "# The number of rows and columns are read from the input as usual\n",
    "n, m = list(map(int, input().split()))\n",
    "\n",
    "# We use a for loop to read n lines from input. Each line will contain M elements. As we use input, firstly we need to convert the string read into a list containing the elements. Secondly, we transform each element into a integer using map. Finally, we convert the map into a list and append it to a list of rows. The first array is created using this list of rows.\n",
    "rows = []\n",
    "for _ in range(n):\n",
    "    rows.append(list(map(int, input().split())))\n",
    "a = np.array(rows)\n",
    "\n",
    "# We use the same logic to create the second array\n",
    "rows = []\n",
    "for _ in range(n):\n",
    "    rows.append(list(map(int, input().split())))\n",
    "b = np.array(rows)\n",
    "\n",
    "\n",
    "# We perform element-wise operations. This means that if the operation is performed between 2 NxM ndarrays, the resulting arrays will also be NxM.\n",
    "print(np.add(a, b))         # Add operation\n",
    "print(np.subtract(a, b))    # Subtract operation\n",
    "print(np.multiply(a, b))    # Multiply operation\n",
    "print(a // b)               # Integer division operation\n",
    "print(a % b)                # Mod operation\n",
    "print(np.power(a, b))       # Power operation"
   ]
  },
  {
   "cell_type": "markdown",
   "id": "1ed2ab9a",
   "metadata": {},
   "source": [
    "## Sum and Prod"
   ]
  },
  {
   "cell_type": "markdown",
   "id": "6b327608",
   "metadata": {},
   "source": [
    "![](imgs\\sum_and_prod.png)"
   ]
  },
  {
   "cell_type": "code",
   "execution_count": null,
   "id": "74d9a436",
   "metadata": {},
   "outputs": [],
   "source": [
    "# Enter your code here. Read input from STDIN. Print output to STDOUT\n",
    "import numpy as np\n",
    "\n",
    "# We read the number of rows and columns as usual\n",
    "n, m = list(map(int, input().split()))\n",
    "\n",
    "# We use a for loop to read n lines from input. Each line will contain M elements. As we use input, firstly we need to convert the string read into a list containing the elements. Secondly, we transform each element into an integer using map. Finally, we convert the map into a list and append it to a list of rows. The first array is created using this list of rows.\n",
    "rows = []\n",
    "for _ in range(n):\n",
    "    rows.append(list(map(int, input().split())))\n",
    "a = np.array(rows)\n",
    "\n",
    "# In this statement, we first compute the sum of array along the first dimension. If a = [1 2], [3 4] and axis = 0, the 2x2 array will result in a 1x2 array as follows [1 + 3, 2 + 4] = [4, 6].\n",
    "# Finally we apply prod to [4, 6] which returns 4 * 6 = 24\n",
    "print(np.prod(np.sum(a, axis = 0)))"
   ]
  },
  {
   "cell_type": "markdown",
   "id": "4b5dea1e",
   "metadata": {},
   "source": [
    "## Polynomials"
   ]
  },
  {
   "cell_type": "markdown",
   "id": "12f7a8d3",
   "metadata": {},
   "source": [
    "![](imgs\\polynomials.png)"
   ]
  },
  {
   "cell_type": "code",
   "execution_count": null,
   "id": "289e0638",
   "metadata": {},
   "outputs": [],
   "source": [
    "# Enter your code here. Read input from STDIN. Print output to STDOUT\n",
    "import numpy as np\n",
    "\n",
    "# We read the coefficients and put them in a list. This time, as the coefficients may be float numbers we convert the input elements to float\n",
    "coefficients_list = list(map(float, input().split()))\n",
    "x = float(input())\n",
    "\n",
    "# As we are given the coefficients and the value of the 'x', our task is to find out the value of the polynomial. Thus polyval is right tool to use\n",
    "print(np.polyval(coefficients_list, x))"
   ]
  },
  {
   "cell_type": "markdown",
   "id": "7965a2b5",
   "metadata": {},
   "source": [
    "## Min and Max"
   ]
  },
  {
   "cell_type": "markdown",
   "id": "51d2cb4b",
   "metadata": {},
   "source": [
    "![](imgs\\min_and_max.png)"
   ]
  },
  {
   "cell_type": "code",
   "execution_count": null,
   "id": "bc5c9cc0",
   "metadata": {},
   "outputs": [],
   "source": [
    "# Enter your code here. Read input from STDIN. Print output to STDOUT\n",
    "import numpy as np\n",
    "\n",
    "# We read the number of rows and columns from the input as usual\n",
    "n, m = list(map(int, input().split()))\n",
    "\n",
    "# We use a for loop to read n lines from input. Each line will contain M elements. As we use input, firstly we need to convert the string read into a list containing the elements. Secondly, we transform each element into an integer using map. Finally, we convert the map into a list and append it to a list of rows. The array is created using this list of rows.\n",
    "rows = []\n",
    "for _ in range(n):\n",
    "    rows.append(list(map(int, input().split())))\n",
    "array = np.array(rows)\n",
    "\n",
    "# We find the minimun value along axis 1. It will return a N, shaped array from which we calculate the max value.\n",
    "print(np.max(np.min(array, axis = 1)))"
   ]
  },
  {
   "cell_type": "markdown",
   "id": "918ea65d",
   "metadata": {},
   "source": [
    "## Mean, Var, and Std"
   ]
  },
  {
   "cell_type": "markdown",
   "id": "b6863da2",
   "metadata": {},
   "source": [
    "![](imgs\\mean_var_std.png)\n",
    "![](imgs\\mean_var_std_2.png)"
   ]
  },
  {
   "cell_type": "code",
   "execution_count": null,
   "id": "08d2995b",
   "metadata": {},
   "outputs": [],
   "source": [
    "# Enter your code here. Read input from STDIN. Print output to STDOUT\n",
    "import numpy as np\n",
    "\n",
    "# We read the number of rows and columns from the input as usual\n",
    "n, m = list(map(int, input().split()))\n",
    "\n",
    "# We use a for loop to read n lines from input. Each line will contain M elements. As we use input, firstly we need to convert the string read into a list containing the elements. Secondly, we transform each element into an integer using map. Finally, we convert the map into a list and append it to a list of rows. The array is created using this list of rows.\n",
    "rows = []\n",
    "for _ in range(n):\n",
    "    rows.append(list(map(int, input().split())))\n",
    "array = np.array(rows)\n",
    "\n",
    "print(np.mean(array, axis = 1))  # Calcutate the arithmetic mean along axis 1\n",
    "print(np.var(array, axis = 0))   # Calcutate the variance along axis 0\n",
    "\n",
    "# Please note I use round to limit the number of decimals in the return of std. By default, in my case the value returned by std is 1.118033988749895, which is correct byt does not match the length of the desired output: 1.11803398875. That why I use round to limit the output to 11 decimals.\n",
    "print(round(np.std(array), 11))"
   ]
  },
  {
   "cell_type": "markdown",
   "id": "26fb19d2",
   "metadata": {},
   "source": [
    "## Dot and Cross"
   ]
  },
  {
   "cell_type": "markdown",
   "id": "200699ef",
   "metadata": {},
   "source": [
    "![](imgs\\dot_and_cross.png)"
   ]
  },
  {
   "cell_type": "code",
   "execution_count": null,
   "id": "2503677d",
   "metadata": {},
   "outputs": [],
   "source": [
    "# Enter your code here. Read input from STDIN. Print output to STDOUT\n",
    "import numpy as np\n",
    "\n",
    "# The number of rows and columns is read\n",
    "n = int(input())\n",
    "\n",
    "# We use a for loop to read n lines from input. Each line will contain N elements. As we use input, firstly we need to convert the string read into a list containing the elements. Secondly, we transform each element into an integer using map. Finally, we convert the map into a list and append it to a list of rows. The array is created using this list of rows.\n",
    "rows = []\n",
    "for _ in range(n):\n",
    "    rows.append(list(map(int, input().split())))\n",
    "a = np.array(rows)\n",
    "\n",
    "# We have to perform the same logic to read the second array\n",
    "rows = []\n",
    "for _ in range(n):\n",
    "    rows.append(list(map(int, input().split())))\n",
    "b = np.array(rows)\n",
    "\n",
    "# Finally, we use dot product to multiply matrixes a and b\n",
    "print(np.dot(a,b))"
   ]
  },
  {
   "cell_type": "markdown",
   "id": "04ac1765",
   "metadata": {},
   "source": [
    "## Inner and Outer"
   ]
  },
  {
   "cell_type": "markdown",
   "id": "0b2be9e9",
   "metadata": {},
   "source": [
    "![](imgs\\inner_and_outer.png)"
   ]
  },
  {
   "cell_type": "code",
   "execution_count": null,
   "id": "354a7c87",
   "metadata": {},
   "outputs": [],
   "source": [
    "# Enter your code here. Read input from STDIN. Print output to STDOUT\n",
    "import numpy as np\n",
    "\n",
    "# Create arrays a and b reading their elements from input in separated lines\n",
    "a = np.array(list(map(int, input().split())))\n",
    "b = np.array(list(map(int, input().split())))\n",
    "\n",
    "print(np.inner(a, b))  # Perform the inner product of a and b\n",
    "print(np.outer(a, b))  # Perform the outer product of a and b"
   ]
  },
  {
   "cell_type": "markdown",
   "id": "1d32be10",
   "metadata": {},
   "source": [
    "## Shape and Reshape"
   ]
  },
  {
   "cell_type": "markdown",
   "id": "1f1dcd65",
   "metadata": {},
   "source": [
    "![](imgs\\shape_and_reshape.png)"
   ]
  },
  {
   "cell_type": "code",
   "execution_count": null,
   "id": "ca3bf286",
   "metadata": {},
   "outputs": [],
   "source": [
    "# Enter your code here. Read input from STDIN. Print output to STDOUT\n",
    "import numpy as np\n",
    "\n",
    "# We read the elements of the array in a single line\n",
    "array_elements = list(map(int, input().split()))\n",
    "\n",
    "# Create the 1x9 array an then change its shape to 3x3. Finally print the new array\n",
    "my_array = np.array(array_elements)\n",
    "my_array.shape = (3, 3)\n",
    "print(my_array)"
   ]
  },
  {
   "cell_type": "markdown",
   "id": "08b117f3",
   "metadata": {},
   "source": [
    "## Linear Algebra"
   ]
  },
  {
   "cell_type": "markdown",
   "id": "0f5fc96b",
   "metadata": {},
   "source": [
    "![](imgs\\linear_algebra.png)"
   ]
  },
  {
   "cell_type": "code",
   "execution_count": null,
   "id": "9e846477",
   "metadata": {},
   "outputs": [],
   "source": [
    "# Enter your code here. Read input from STDIN. Print output to STDOUT\n",
    "import numpy as np\n",
    "\n",
    "# Get N from input\n",
    "n = int(input())\n",
    "\n",
    "# We use a for loop to read n lines from input. Each line will contain N elements. As we use input, firstly we need to convert the string read into a list containing the elements. Secondly, we transform each element into an float using map. Finally, we convert the map into a list and append it to a list of rows. The array is created using this list of rows.\n",
    "rows = []\n",
    "for _ in range(n):\n",
    "    rows.append(list(map(float, input().split())))\n",
    "a = np.array(rows)\n",
    "\n",
    "# NOTE. It is needed to round the number of decimals to 2 to match the desired result for test case number 1\n",
    "print(round(np.linalg.det(a), 2))"
   ]
  },
  {
   "cell_type": "markdown",
   "id": "19c846fb",
   "metadata": {},
   "source": [
    "## Floor, Ceil and Rint"
   ]
  },
  {
   "cell_type": "markdown",
   "id": "b4a359c8",
   "metadata": {},
   "source": [
    "![](imgs\\floor_ceil_rint.png)"
   ]
  },
  {
   "cell_type": "code",
   "execution_count": null,
   "id": "b850655a",
   "metadata": {},
   "outputs": [],
   "source": [
    "# Enter your code here. Read input from STDIN. Print output to STDOUT\n",
    "import numpy as np\n",
    "\n",
    "# Statement needed as instructed...\n",
    "np.set_printoptions(legacy='1.13')\n",
    "\n",
    "# First, we get the elements of the array\n",
    "a = np.array(list(map(float, input().split())))\n",
    "\n",
    "# We perform the operations asked\n",
    "print(np.floor(a))  \n",
    "print(np.ceil(a))   \n",
    "print(np.rint(a))"
   ]
  }
 ],
 "metadata": {
  "kernelspec": {
   "display_name": "Python 3 (ipykernel)",
   "language": "python",
   "name": "python3"
  },
  "language_info": {
   "codemirror_mode": {
    "name": "ipython",
    "version": 3
   },
   "file_extension": ".py",
   "mimetype": "text/x-python",
   "name": "python",
   "nbconvert_exporter": "python",
   "pygments_lexer": "ipython3",
   "version": "3.7.13"
  }
 },
 "nbformat": 4,
 "nbformat_minor": 5
}
